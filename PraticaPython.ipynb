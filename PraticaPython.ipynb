{
  "nbformat": 4,
  "nbformat_minor": 0,
  "metadata": {
    "colab": {
      "provenance": [],
      "authorship_tag": "ABX9TyMGmsd2E7VrXyHklGdG7UOI",
      "include_colab_link": true
    },
    "kernelspec": {
      "name": "python3",
      "display_name": "Python 3"
    },
    "language_info": {
      "name": "python"
    }
  },
  "cells": [
    {
      "cell_type": "markdown",
      "metadata": {
        "id": "view-in-github",
        "colab_type": "text"
      },
      "source": [
        "<a href=\"https://colab.research.google.com/github/marcus-vinicius0/Python/blob/main/PraticaPython.ipynb\" target=\"_parent\"><img src=\"https://colab.research.google.com/assets/colab-badge.svg\" alt=\"Open In Colab\"/></a>"
      ]
    },
    {
      "cell_type": "code",
      "execution_count": 4,
      "metadata": {
        "colab": {
          "base_uri": "https://localhost:8080/"
        },
        "id": "0WVDpj4w-arX",
        "outputId": "f06ed90d-5a21-47c0-e230-dfeff5977601"
      },
      "outputs": [
        {
          "output_type": "stream",
          "name": "stdout",
          "text": [
            "4\n"
          ]
        }
      ],
      "source": [
        "\n",
        "\n",
        "\"\"\"1. Faça um programa que tenha uma função chamada amplitude. A função deve\n",
        "receber uma lista e imprimir a amplitude.\n",
        "Crie também um código para testar sua função\"\"\"\n",
        "\n",
        "def amplitude(lista):\n",
        "    return max(lista) - min(lista)\n",
        "\n",
        "lista = [1, 2, 3, 4, 5]\n",
        "print(amplitude(lista))\n"
      ]
    },
    {
      "cell_type": "code",
      "source": [
        "\"\"\"\n",
        "2. Faça uma função que receba uma string e imprima esta string na forma vertical\n",
        "Por exemplo, se receber python, deve imprimir\n",
        "p\n",
        "y\n",
        "t\n",
        "h\n",
        "o\n",
        "n\n",
        "\n",
        "Dica: uma string do python funciona como uma lista!\n",
        "Crie também um código para testar sua função\n",
        "\"\"\"\n",
        "\n",
        "def vertical(string):\n",
        "    for i in string:\n",
        "        print(i)\n",
        "\n",
        "vertical(\"python\")"
      ],
      "metadata": {
        "colab": {
          "base_uri": "https://localhost:8080/"
        },
        "id": "obij5Mpp_t1Q",
        "outputId": "8b7e9c35-d00c-4bdc-8fae-764bdb58605b"
      },
      "execution_count": 5,
      "outputs": [
        {
          "output_type": "stream",
          "name": "stdout",
          "text": [
            "p\n",
            "y\n",
            "t\n",
            "h\n",
            "o\n",
            "n\n"
          ]
        }
      ]
    },
    {
      "cell_type": "code",
      "source": [
        "\"\"\"\n",
        "3. Crie um programa que leia o peso de uma carga em números inteiros. Se o peso for até 10 kg, informe\n",
        "que o valor será de R$ 50,00. Entre 11 e 20 kg, informe que o valor será de R$ 80. Se for maior que 20\n",
        "informe que o transporte não é aceito. Teste vários pesos\n",
        "\"\"\"\n",
        "\n",
        "def valor(peso):\n",
        "    if peso <= 10:\n",
        "        print(\"O valor será de R$ 50,00\")\n",
        "    elif peso <= 20:\n",
        "        print(\"O valor será de R$ 80,00\")\n",
        "    else: print(\"O valor não é aceito\")\n",
        "\n",
        "valor(8)\n",
        "valor(15)\n",
        "valor(25)"
      ],
      "metadata": {
        "colab": {
          "base_uri": "https://localhost:8080/"
        },
        "id": "XKjYL6cOBT91",
        "outputId": "d005cbdb-ee5c-418d-e213-b116e446ca60"
      },
      "execution_count": 9,
      "outputs": [
        {
          "output_type": "stream",
          "name": "stdout",
          "text": [
            "O valor será de R$ 50,00\n",
            "O valor será de R$ 80,00\n",
            "O valor não é aceito\n"
          ]
        }
      ]
    }
  ]
}